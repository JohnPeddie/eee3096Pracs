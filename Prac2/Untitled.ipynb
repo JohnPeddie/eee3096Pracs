{
 "cells": [
  {
   "cell_type": "code",
   "execution_count": 14,
   "metadata": {},
   "outputs": [
    {
     "name": "stdout",
     "output_type": "stream",
     "text": [
      "Roots of: x^3 + 3*x - 5 = 0\n",
      "[-0.57708575-1.99977096j -0.57708575+1.99977096j  1.15417150+0.j        ]\n",
      "Roots of: 3*x^3 + 3*x^2 - 5 = 0\n",
      "[-0.96470911-0.92874797j -0.96470911+0.92874797j  0.92941823+0.j        ]\n",
      "Roots of: 3*x^4 + 2*x^2 - 1 = 0\n",
      "[-0.57735027+0.j  0.00000000-1.j  0.00000000+1.j  0.57735027+0.j]\n",
      "Roots of: 2*x^5 + 3*x^4 + 5*x^3 -13*x^2 - 5*x +2 = 0\n",
      "[-1.23898497-1.98213122j -1.23898497+1.98213122j -0.56227614+0.j\n",
      "  0.25282844+0.j          1.28741764+0.j        ]\n"
     ]
    }
   ],
   "source": [
    "from numpy.polynomial import Polynomial as P\n",
    "  \n",
    "\n",
    "#x^3 + 3*x - 5 = 0\n",
    "print(\"Roots of: x^3 + 3*x - 5 = 0\")\n",
    "p = P([-5, 3, 0, 1])\n",
    "print(p.roots())\n",
    "\n",
    "#3*x^3 + 3*x^2 - 5 = 0\n",
    "print(\"Roots of: 3*x^3 + 3*x^2 - 5 = 0\")\n",
    "p1 = P([-5, 0, 3, 3])\n",
    "print(p1.roots())\n",
    "\n",
    "#3*x^4 + 2*x^2 - 1 = 0\n",
    "print(\"Roots of: 3*x^4 + 2*x^2 - 1 = 0\")\n",
    "p2 = P([-1, 0, 2, 0, 3])\n",
    "print(p2.roots())\n",
    "\n",
    "#2*x^5 + 3*x^4 + 5*x^3 -13*x^2 - 5*x +2 = 0\n",
    "print(\"Roots of: 2*x^5 + 3*x^4 + 5*x^3 -13*x^2 - 5*x +2 = 0\")\n",
    "p3 = P([+2, -5, -13, 5, 3, 2])\n",
    "print(p3.roots())\n"
   ]
  },
  {
   "cell_type": "code",
   "execution_count": null,
   "metadata": {
    "collapsed": true
   },
   "outputs": [],
   "source": []
  }
 ],
 "metadata": {
  "kernelspec": {
   "display_name": "Python 3",
   "language": "python",
   "name": "python3"
  },
  "language_info": {
   "codemirror_mode": {
    "name": "ipython",
    "version": 3
   },
   "file_extension": ".py",
   "mimetype": "text/x-python",
   "name": "python",
   "nbconvert_exporter": "python",
   "pygments_lexer": "ipython3",
   "version": "3.6.1"
  }
 },
 "nbformat": 4,
 "nbformat_minor": 2
}
